{
    "cells": [
        {
            "metadata": {
                "collapsed": true
            },
            "cell_type": "markdown",
            "source": "# Capstone Project - The Battle of Neighborhoods (Week 1)"
        },
        {
            "metadata": {},
            "cell_type": "markdown",
            "source": "### Introduction: Business Problem"
        },
        {
            "metadata": {},
            "cell_type": "markdown",
            "source": "In this project We try to recommend the 5 best hotels in the city for stay and the nearby places to that hotel will be sugested.\n\n#### Use Case:\n> Helping the users to pick the best hotels that exists in the city and will suggest nearby places form that hotels. \n\n#### The Problem:\nIf suppose you want to visit New York City for the first time you dont have any idea about that city then the very first problem you face is to pick the best hotel to stay. So for that we will be googling for the hotels checking for the reviews and feedback. Once we find the hotel then we check for the nearby places to vist and lot more. All this process is time consuming one we should search at different sites which is much more difficult.\n\nIn the process of automating this task the below mentioned problems also includes: \n\n* How to fetch the hotels data in any given city?\n* what features are to be considered at the time of ranking the Hotels? \n* How to get the nearby places surrounded to the hotel?\n\nYes, we are going to work on this problems and will try to find a solution for this... \n\n\n### Solution:\nAll this tasks can be automated by using Machine Learning and Data Analysis.\n\nThe Foursquare API is used to get the hotels data in any city provided by the User and can fetch the ratings and feedback of the hotels by using API.\nThe top 5 hotels can the fetched from that data and can list the best 5 hotels to users along with the surroundings so that teh user picks based upon his interest.\n\n### Data\nFirst User will Enter the Name of the Place or City where He would like to Search for Hotels then taking City or Place as Input for Fetching Co-ordinates of that Location, We will use **Python's Geopy Library**to Fetch Co-ordinates then We will Generate Map of given Location to Superimpose Hotels on it.**Python's Folium Library** will be used to Generate Map\n\nNow It's Time to use **Foursquare API**!\n\nUsing Foursquare API we will Query for Hotels near Given Location under the Radius of 10 KM, We Get JSON data as a Result then convert it into Hotels Pandas DataFrame having the Following Columns:\n\n* Name: Name of the Hotel. e.g: EVEN Hotels New York - Times Square South\n* Categories: Category of Hotel. e.g.: Hotel, Resort\n* Address: Address of Hotel. e.g.: 321 W 35th St, New York, NY 10001, United States\n* Distance: Distance of Hotel from given City (In Meters). e.g.: 4648\n* lat: Latitude. e.g.: 40.753467\n* lng: Longitude. e.g.: -73.993898\n* ID: Unique ID for all Hotels. e.g.: 558dff09498e0910b7cbf9bd\nNow We can use ID of every Hotels to fetch Ratings of corresponding Hotels using Foursquare API.\nIterating to every Hotels ID we will store the rating into new Pandas DataFrame with ID then Merge this new Dataframe with Hotels Dataframe.\n\nYeah...We Just Prepared a List of Hotels with Ratings!\n\nNow, We will Sort the Ratings and Select Top 5 Hotels from Hotels Dataframe and Store into New Dataframe Consisting of Selected Top 5 Hotels.\nUsing this Hotel's Location Co-ordinates, we will Get Nearby Places under the Radius of 1 KM from the Hotel. Quering for Nearby Places by passing co-ordinates and Radius we will get JSON data as a Result then Convert it into Nearby Places Pandas DataFrame having the Columns same as Hotels Dataframe.\n\nNow, Combine both Dataframe Resulting into New Final Dataframe Consisting Data of Hotel + Nearby Places with Co-ordinates\n\nFinally We will Generate Map of all Nearby Places along with the 5 Hotels and make 5 clusters of Hotels + Nearby Places using K-Means Algorithm\n\n"
        },
        {
            "metadata": {},
            "cell_type": "code",
            "source": "",
            "execution_count": null,
            "outputs": []
        }
    ],
    "metadata": {
        "kernelspec": {
            "name": "python3",
            "display_name": "Python 3.6",
            "language": "python"
        },
        "language_info": {
            "name": "python",
            "version": "3.6.8",
            "mimetype": "text/x-python",
            "codemirror_mode": {
                "name": "ipython",
                "version": 3
            },
            "pygments_lexer": "ipython3",
            "nbconvert_exporter": "python",
            "file_extension": ".py"
        }
    },
    "nbformat": 4,
    "nbformat_minor": 1
}